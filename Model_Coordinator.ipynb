{
 "cells": [
  {
   "cell_type": "markdown",
   "metadata": {},
   "source": [
    "# Model Coordinator\n",
    "\n",
    "## ไลบรารี่ที่สำคัญ\n",
    "\n",
    "- PySyft version 0.2.5\n",
    "- Torch  version 1.4.0"
   ]
  },
  {
   "cell_type": "code",
   "execution_count": 1,
   "metadata": {},
   "outputs": [
    {
     "name": "stderr",
     "output_type": "stream",
     "text": [
      "Falling back to insecure randomness since the required custom op could not be found for the installed version of TensorFlow. Fix this by compiling custom ops. Missing file was '/Users/suparerk/opt/anaconda3/envs/pysyft/lib/python3.7/site-packages/tf_encrypted/operations/secure_random/secure_random_module_tf_1.15.3.so'\n"
     ]
    },
    {
     "name": "stdout",
     "output_type": "stream",
     "text": [
      "WARNING:tensorflow:From /Users/suparerk/opt/anaconda3/envs/pysyft/lib/python3.7/site-packages/tf_encrypted/session.py:24: The name tf.Session is deprecated. Please use tf.compat.v1.Session instead.\n",
      "\n"
     ]
    }
   ],
   "source": [
    "import sys\n",
    "import argparse\n",
    "import torch\n",
    "import torch.nn.functional as F\n",
    "from torch import nn\n",
    "from torch import optim\n",
    "import syft as sy\n",
    "from syft import workers\n",
    "#from syft.workers.websocket_client import WebsocketClientWorker"
   ]
  },
  {
   "cell_type": "markdown",
   "metadata": {},
   "source": [
    "## เตรียมการประมวลผล"
   ]
  },
  {
   "cell_type": "code",
   "execution_count": 2,
   "metadata": {},
   "outputs": [
    {
     "name": "stdout",
     "output_type": "stream",
     "text": [
      "ประมวลผลโดยใช้ cpu\n"
     ]
    }
   ],
   "source": [
    "use_cuda = torch.cuda.is_available()\n",
    "torch.manual_seed(1)\n",
    "device = torch.device(\"cuda\" if use_cuda else \"cpu\")\n",
    "print('ประมวลผลโดยใช้ ' + str(device))\n",
    "\n",
    "hook = sy.TorchHook(torch) "
   ]
  },
  {
   "cell_type": "markdown",
   "metadata": {},
   "source": [
    "## แบบจำลองโครงข่ายประสาทเทียม"
   ]
  },
  {
   "cell_type": "code",
   "execution_count": 4,
   "metadata": {},
   "outputs": [],
   "source": [
    "class Net(torch.nn.Module):\n",
    "    def __init__(self):\n",
    "        super(Net, self).__init__()\n",
    "        self.fc1 = nn.Linear(2, 20)\n",
    "        self.fc2 = nn.Linear(20, 10)\n",
    "        self.fc3 = nn.Linear(10, 1)\n",
    "        \n",
    "    def forward(self, x):\n",
    "        x = F.relu(self.fc1(x))\n",
    "        x = F.relu(self.fc2(x))\n",
    "        x = self.fc3(x)\n",
    "        return x\n",
    "    \n",
    "\n",
    "# แบบจำลองเป็น Neural Network\n",
    "model = Net()\n",
    "\n",
    "# จำลองข้อมูลที่ฝั่ง Model_Coordinator เพื่อใช้สร้าง TrainConfig\n",
    "# ไม่มีผลต่อการคำนวณ เนื่องข้อมูลอยู่ใน Data_Node\n",
    "mock_data = torch.zeros(1, 2)\n",
    "\n",
    "# สร้าง Traced_Model เป็น jit เพื่อให้สามารถส่งไปรันที่ Data_Node\n",
    "traced_model = torch.jit.trace(model, mock_data)\n",
    "\n",
    "# ใช้ Stochastic Gradient Descent\n",
    "optimizer = \"SGD\"\n",
    "\n",
    "# สร้าง Loss Function เป็น jit เพื่อให้สามารถส่งไปรันที่ Data_Node\n",
    "@torch.jit.script\n",
    "def loss_fn(target, pred):\n",
    "    return ((target.view(pred.shape).float() - pred.float()) ** 2).mean()\n",
    "\n",
    "\n",
    "# Hyperparameters\n",
    "batch_size = 4\n",
    "optimizer_args = {\"lr\" : 0.1, \"weight_decay\" : 0.01}\n",
    "epochs = 1\n",
    "max_nr_batches = -1\n",
    "shuffle = True\n",
    "\n",
    "# TrainConfig \n",
    "train_config = sy.TrainConfig(model=traced_model,\n",
    "                              loss_fn=loss_fn,\n",
    "                              optimizer=optimizer,\n",
    "                              batch_size=batch_size,\n",
    "                              optimizer_args=optimizer_args,\n",
    "                              epochs=epochs,\n",
    "                              shuffle=shuffle)"
   ]
  },
  {
   "cell_type": "markdown",
   "metadata": {},
   "source": [
    "## การทดสอบโมเดลบน Model_Coordinator"
   ]
  },
  {
   "cell_type": "code",
   "execution_count": 6,
   "metadata": {},
   "outputs": [
    {
     "name": "stdout",
     "output_type": "stream",
     "text": [
      "\n",
      "Evaluation before training\n",
      "Loss: 0.4933376908302307\n",
      "Target: tensor([[1.],\n",
      "        [1.],\n",
      "        [0.],\n",
      "        [0.]])\n",
      "Pred: tensor([[ 0.1258],\n",
      "        [-0.0994],\n",
      "        [ 0.0033],\n",
      "        [ 0.0210]], grad_fn=<AddmmBackward>)\n"
     ]
    }
   ],
   "source": [
    "data = torch.tensor([[0.0, 1.0], [1.0, 0.0], [1.0, 1.0], [0.0, 0.0]], requires_grad=True)\n",
    "target = torch.tensor([[1.0], [1.0], [0.0], [0.0]], requires_grad=False)\n",
    "\n",
    "print(\"\\nEvaluation before training\")\n",
    "pred = model(data)\n",
    "loss = loss_fn(target=target, pred=pred)\n",
    "print(\"Loss: {}\".format(loss))\n",
    "print(\"Target: {}\".format(target))\n",
    "print(\"Pred: {}\".format(pred))"
   ]
  },
  {
   "cell_type": "markdown",
   "metadata": {},
   "source": [
    "## การส่งโมเดลไปยัง Data_Node"
   ]
  },
  {
   "cell_type": "code",
   "execution_count": 7,
   "metadata": {},
   "outputs": [
    {
     "data": {
      "text/plain": [
       "<syft.federated.train_config.TrainConfig at 0x7fe8f9b6eed0>"
      ]
     },
     "execution_count": 7,
     "metadata": {},
     "output_type": "execute_result"
    }
   ],
   "source": [
    "kwargs_websocket = {\"host\": \"192.168.1.108\", \"hook\": hook, \"verbose\": True}\n",
    "\n",
    "data_node = sy.workers.websocket_client.WebsocketClientWorker(\n",
    "    id=\"data_node\", \n",
    "    port=8777, \n",
    "    **kwargs_websocket)\n",
    "\n",
    "train_config.send(data_node)"
   ]
  },
  {
   "cell_type": "markdown",
   "metadata": {},
   "source": [
    "## การเทรนบน Data_Node"
   ]
  },
  {
   "cell_type": "code",
   "execution_count": 8,
   "metadata": {},
   "outputs": [
    {
     "name": "stdout",
     "output_type": "stream",
     "text": [
      "--------------------------------------------------\n",
      "Iteration 0: Data_Node's loss: tensor(0.4933, requires_grad=True)\n",
      "--------------------------------------------------\n",
      "Iteration 1: Data_Node's loss: tensor(0.3484, requires_grad=True)\n",
      "--------------------------------------------------\n",
      "Iteration 2: Data_Node's loss: tensor(0.2858, requires_grad=True)\n",
      "--------------------------------------------------\n",
      "Iteration 3: Data_Node's loss: tensor(0.2626, requires_grad=True)\n",
      "--------------------------------------------------\n",
      "Iteration 4: Data_Node's loss: tensor(0.2529, requires_grad=True)\n",
      "--------------------------------------------------\n",
      "Iteration 5: Data_Node's loss: tensor(0.2474, requires_grad=True)\n",
      "--------------------------------------------------\n",
      "Iteration 6: Data_Node's loss: tensor(0.2441, requires_grad=True)\n",
      "--------------------------------------------------\n",
      "Iteration 7: Data_Node's loss: tensor(0.2412, requires_grad=True)\n",
      "--------------------------------------------------\n",
      "Iteration 8: Data_Node's loss: tensor(0.2388, requires_grad=True)\n",
      "--------------------------------------------------\n",
      "Iteration 9: Data_Node's loss: tensor(0.2368, requires_grad=True)\n"
     ]
    }
   ],
   "source": [
    "for epoch in range(10):\n",
    "    loss = data_node.fit(dataset_key=\"xor\")\n",
    "    print(\"-\" * 50)\n",
    "    print(\"Iteration %s: Data_Node's loss: %s\" % (epoch, loss))"
   ]
  },
  {
   "cell_type": "markdown",
   "metadata": {},
   "source": [
    "## รับโมเดลที่ได้"
   ]
  },
  {
   "cell_type": "code",
   "execution_count": 9,
   "metadata": {},
   "outputs": [
    {
     "name": "stdout",
     "output_type": "stream",
     "text": [
      "\n",
      "Evaluation after training:\n",
      "Loss: 0.23491761088371277\n",
      "Target: tensor([[1.],\n",
      "        [1.],\n",
      "        [0.],\n",
      "        [0.]])\n",
      "Pred: tensor([[0.6553],\n",
      "        [0.3781],\n",
      "        [0.4834],\n",
      "        [0.4477]], grad_fn=<DifferentiableGraphBackward>)\n"
     ]
    }
   ],
   "source": [
    "new_model = train_config.model_ptr.get()\n",
    "\n",
    "print(\"\\nEvaluation after training:\")\n",
    "pred = new_model(data)\n",
    "loss = loss_fn(target=target, pred=pred)\n",
    "print(\"Loss: {}\".format(loss))\n",
    "print(\"Target: {}\".format(target))\n",
    "print(\"Pred: {}\".format(pred))"
   ]
  },
  {
   "cell_type": "code",
   "execution_count": null,
   "metadata": {},
   "outputs": [],
   "source": []
  }
 ],
 "metadata": {
  "kernelspec": {
   "display_name": "Python 3",
   "language": "python",
   "name": "python3"
  },
  "language_info": {
   "codemirror_mode": {
    "name": "ipython",
    "version": 3
   },
   "file_extension": ".py",
   "mimetype": "text/x-python",
   "name": "python",
   "nbconvert_exporter": "python",
   "pygments_lexer": "ipython3",
   "version": "3.7.7"
  }
 },
 "nbformat": 4,
 "nbformat_minor": 4
}
